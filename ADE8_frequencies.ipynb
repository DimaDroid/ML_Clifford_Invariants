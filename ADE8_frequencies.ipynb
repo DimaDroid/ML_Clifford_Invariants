{
 "cells": [
  {
   "cell_type": "markdown",
   "id": "d2aaa501",
   "metadata": {},
   "source": [
    "This notebook conducts an analysis of the components of the A8, D8, and E8 algebras' SOCMs (see section Datasets of the papaer for notations). It begins by parsing a dataset containing permutations and associated coefficient vectors. The script then identifies distinct classes of SOCMs, grouping elements sharing similar components. It generates statistics on the class distribution and creates a bar plot using Matplotlib to visualize the number of elements in each class. Finally, the resulting frequencies are saved to a file. Similar analysis repeats for A8, D8, and E8."
   ]
  },
  {
   "cell_type": "code",
   "execution_count": 7,
   "id": "d402616a",
   "metadata": {
    "tags": []
   },
   "outputs": [],
   "source": [
    "import numpy as np\n",
    "import pandas as pd\n",
    "import matplotlib.pyplot as plt\n",
    "\n",
    "from numpy.random import choice\n",
    "from collections import Counter\n",
    "from copy import deepcopy\n",
    "\n",
    "from tqdm import tqdm\n",
    "import time"
   ]
  },
  {
   "cell_type": "code",
   "execution_count": 8,
   "id": "cc58a0a6",
   "metadata": {
    "tags": []
   },
   "outputs": [
    {
     "name": "stdout",
     "output_type": "stream",
     "text": [
      "62.41157341003418\n"
     ]
    }
   ],
   "source": [
    "# Import data -- in format \n",
    "# [[(permutation order of roots in W definition), [list of invariant coefficient vectors], ...all permutations]\n",
    "\n",
    "# Parse string into list of lists of float\n",
    "def parseString(string):\n",
    "    tmp = list(string[1:-2].split(\", [[\"))\n",
    "    return [tmp[0], [ [float(i) for i in list(elem.split(\", \"))]  for elem in list(tmp[1][:-1].split(\"], [\"))] ]\n",
    "\n",
    "start = time.time()\n",
    "\n",
    "# Modified files are used: all 1/2, 3/2, 5/2 are replaced by 0.5, 1.5, 2,5\n",
    "with open('ADE_Data\\E8inv_Data_mod.txt','r') as file:\n",
    "    dataE8 = [ parseString(line.rstrip())[1] for line in file]\n",
    "\n",
    "end = time.time()\n",
    "print(end - start)\n",
    "\n",
    "data_size = len(dataE8)"
   ]
  },
  {
   "cell_type": "code",
   "execution_count": 34,
   "id": "9426174b",
   "metadata": {
    "tags": []
   },
   "outputs": [
    {
     "name": "stderr",
     "output_type": "stream",
     "text": [
      "100%|██████████| 40320/40320 [00:22<00:00, 1755.99it/s] \n"
     ]
    }
   ],
   "source": [
    "# Find distinct classes of invariants in E8 (class = invaraints with the same components)\n",
    "classesE8 = np.zeros(data_size, dtype = int)    \n",
    "for idx1 in tqdm(range(len(dataE8))):\n",
    "    if classesE8[idx1] != 0: # check if we've assigned a class to this element already\n",
    "        continue\n",
    "    classesE8[idx1] = idx1+1 # record that elem itself in its own class (shift classes number's by 1 during run for technical reasons)\n",
    "    for idx2 in range(idx1+1,len(dataE8)):\n",
    "        if dataE8[idx1]==dataE8[idx2] or dataE8[idx1]==(-1) * dataE8[idx2]: # identify components which are the same up to a minus sign\n",
    "            classesE8[idx2] = idx1+1 # record that elem idx2 is in the same class as element idx1 (shift classes number's by 1 during run)\n",
    "\n",
    "classesE8 = classesE8 - 1 # shift classes number's back by 1"
   ]
  },
  {
   "cell_type": "code",
   "execution_count": null,
   "id": "df4cc585",
   "metadata": {
    "tags": []
   },
   "outputs": [],
   "source": [
    "# Record classes of all elements to a file\n",
    "with open('ADE_Data\\E8_classes_all_elems.txt','w') as file:\n",
    "    file.write('Permutation \\t\\t class\\n')\n",
    "    for idx in range(data_size):\n",
    "        file.write( str(dataE8[idx][0]) + \"\\t %1d\" % (classesE8[idx]) + '\\n')"
   ]
  },
  {
   "cell_type": "code",
   "execution_count": 35,
   "id": "617ac800",
   "metadata": {
    "tags": []
   },
   "outputs": [
    {
     "name": "stdout",
     "output_type": "stream",
     "text": [
      "Number of classes in E8:  128\n"
     ]
    },
    {
     "data": {
      "image/png": "[encoded data removed]",
      "text/plain": [
       "<Figure size 1200x800 with 1 Axes>"
      ]
     },
     "metadata": {},
     "output_type": "display_data"
    }
   ],
   "source": [
    "# Create a dictionary containing pairs (class index, number of elements in class)\n",
    "classes_counterE8 = dict(Counter(classesE8))\n",
    "print('Number of classes in E8: ', len(classes_counterE8))\n",
    "\n",
    "# Sort classes by the number of elements\n",
    "tempDict = classes_counterE8\n",
    "classes_counterE8 = {k: v for k, v in sorted(tempDict.items(), key=lambda item: item[1])}\n",
    "    \n",
    "# plot number of elements in classes for E8\n",
    "plt.figure(figsize=(12, 8));\n",
    "freq_series = pd.Series(list(classes_counterE8.values()));\n",
    "fig = freq_series.plot(kind='bar');\n",
    "fig.set_title('E8 group');\n",
    "fig.set_xlabel('Unique Invariant');\n",
    "fig.set_ylabel('Multiplicity');\n",
    "fig.set_xticklabels([]);"
   ]
  },
  {
   "cell_type": "code",
   "execution_count": null,
   "id": "1f92aa05",
   "metadata": {
    "tags": []
   },
   "outputs": [],
   "source": [
    "# Highest frequency\n",
    "classes_counterE8[ list(classes_counterE8.keys())[-1] ]"
   ]
  },
  {
   "cell_type": "code",
   "execution_count": null,
   "id": "a69a7bee",
   "metadata": {
    "tags": []
   },
   "outputs": [],
   "source": [
    "# Record found classes\n",
    "with open('ADE_Data\\E8_classes.txt','w') as file:\n",
    "    file.write('Permutation \\t\\t Invariant No \\t Frequency \\n')\n",
    "    for invar_no, freq in classes_counterE8.items():\n",
    "        file.write( str(dataE8[invar_no][0]) + \"\\t %5d \\t %4d\" % (invar_no,freq) + '\\n')"
   ]
  },
  {
   "cell_type": "code",
   "execution_count": null,
   "id": "bc4df0a0",
   "metadata": {},
   "outputs": [],
   "source": []
  },
  {
   "cell_type": "code",
   "execution_count": null,
   "id": "0cbabfa5-befb-4610-a813-aab7b11d6234",
   "metadata": {},
   "outputs": [],
   "source": [
    "# Similar analysis for D8"
   ]
  },
  {
   "cell_type": "code",
   "execution_count": 12,
   "id": "c9fde70e",
   "metadata": {},
   "outputs": [
    {
     "name": "stderr",
     "output_type": "stream",
     "text": [
      "100%|██████████| 40320/40320 [04:38<00:00, 144.91it/s] \n",
      "100%|██████████| 40320/40320 [00:01<00:00, 23782.34it/s]\n"
     ]
    }
   ],
   "source": [
    "# Find distinct classes of invariants in D8\n",
    "classesD8 = np.zeros(data_size, dtype = int) # record that elem idx2 is in the same class as element idx1          \n",
    "for idx1 in tqdm(range(len(dataD8))):\n",
    "    if classesD8[idx1] != 0:\n",
    "        continue\n",
    "    classesD8[idx1] = idx1+1 # record that elem itself in its own class, shift classes number's by 1 during run\n",
    "    for idx2 in range(idx1+1,len(dataD8)):\n",
    "        if dataD8[idx1][1]==dataD8[idx2][1]:    \n",
    "            classesD8[idx2] = idx1+1 # record that elem idx2 is in the same class as element idx1, shift classes number's by 1 during run\n",
    "            \n",
    "classesD8 = classesD8 - 1 # shift classes number's back by 1"
   ]
  },
  {
   "cell_type": "code",
   "execution_count": 13,
   "id": "b604d4a3",
   "metadata": {},
   "outputs": [],
   "source": [
    "# Record classes of all elements\n",
    "with open('ADE_Data\\D8_classes_all_elems.txt','w') as file:\n",
    "    file.write('Permutation \\t\\t class\\n')\n",
    "    for idx in range(data_size):\n",
    "        file.write( str(dataD8[idx][0]) + \"\\t %1d\" % (classesD8[idx]) + '\\n')"
   ]
  },
  {
   "cell_type": "code",
   "execution_count": 16,
   "id": "2d27c1ca",
   "metadata": {},
   "outputs": [
    {
     "name": "stdout",
     "output_type": "stream",
     "text": [
      "Number of classes in D8:  128\n"
     ]
    },
    {
     "data": {
      "image/png": "[encoded data removed]",
      "text/plain": [
       "<Figure size 1200x800 with 1 Axes>"
      ]
     },
     "metadata": {},
     "output_type": "display_data"
    }
   ],
   "source": [
    "classes_counterD8 = dict(Counter(classesD8))\n",
    "print('Number of classes in D8: ', len(classes_counterD8))\n",
    "    \n",
    "# Sort records by the number of occurances\n",
    "tempDict = classes_counterD8\n",
    "classes_counterD8 = {k: v for k, v in sorted(tempDict.items(), key=lambda item: item[1])}    \n",
    "\n",
    "# distribution of different classes for D8\n",
    "plt.figure(figsize=(12, 8));\n",
    "freq_series = pd.Series(list(classes_counterD8.values()));\n",
    "fig = freq_series.plot(kind='bar');\n",
    "fig.set_title('D8 group');\n",
    "fig.set_xlabel('Unique Invariant');\n",
    "fig.set_ylabel('Multiplicity');\n",
    "fig.set_xticklabels([]);"
   ]
  },
  {
   "cell_type": "code",
   "execution_count": 17,
   "id": "47e4af43",
   "metadata": {},
   "outputs": [
    {
     "data": {
      "text/plain": [
       "1582"
      ]
     },
     "execution_count": 17,
     "metadata": {},
     "output_type": "execute_result"
    }
   ],
   "source": [
    "# Highest frequency\n",
    "classes_counterD8[ list(classes_counterD8.keys())[-1] ]"
   ]
  },
  {
   "cell_type": "code",
   "execution_count": 18,
   "id": "93241595",
   "metadata": {},
   "outputs": [],
   "source": [
    "# Record found classes\n",
    "with open('ADE_Data\\D8_classes.txt','w') as file:\n",
    "    file.write('Permutation \\t\\t Invariant No \\t Frequency \\n')\n",
    "    for invar_no, freq in classes_counterD8.items():\n",
    "        file.write( str(dataD8[invar_no][0]) + \"\\t %5d \\t %4d\" % (invar_no,freq) + '\\n')"
   ]
  },
  {
   "cell_type": "code",
   "execution_count": null,
   "id": "3c8fcba2",
   "metadata": {},
   "outputs": [],
   "source": []
  },
  {
   "cell_type": "code",
   "execution_count": null,
   "id": "ab8e43a7-9989-4a5a-8249-fdf32d40f622",
   "metadata": {},
   "outputs": [],
   "source": [
    "# Similar analysis for A8"
   ]
  },
  {
   "cell_type": "code",
   "execution_count": 19,
   "id": "8727944a",
   "metadata": {},
   "outputs": [
    {
     "name": "stderr",
     "output_type": "stream",
     "text": [
      "100%|██████████| 40320/40320 [04:11<00:00, 160.18it/s] \n",
      "100%|██████████| 40320/40320 [00:01<00:00, 31732.49it/s]\n"
     ]
    }
   ],
   "source": [
    "# Find distinct classes of invariants in A8\n",
    "classesA8 = np.zeros(data_size, dtype = int) # record that elem idx2 is in the same class as element idx1          \n",
    "for idx1 in tqdm(range(len(dataA8))):\n",
    "    if classesA8[idx1] != 0:\n",
    "        continue\n",
    "    classesA8[idx1] = idx1+1 # record that elem itself in its own class, shift classes number's by 1 during run\n",
    "    for idx2 in range(idx1+1,len(dataA8)):\n",
    "        if dataA8[idx1][1]==dataA8[idx2][1]:    \n",
    "            classesA8[idx2] = idx1+1 # record that elem idx2 is in the same class as element idx1, shift classes number's by 1 during run\n",
    "            \n",
    "classesA8 = classesA8 - 1 # shift classes number's back by 1"
   ]
  },
  {
   "cell_type": "code",
   "execution_count": 20,
   "id": "da0d1aa8",
   "metadata": {},
   "outputs": [],
   "source": [
    "# Record classes of all elements\n",
    "with open('ADE_Data\\A8_classes_all_elems.txt','w') as file:\n",
    "    file.write('Permutation \\t\\t class\\n')\n",
    "    for idx in range(data_size):\n",
    "        file.write( str(dataA8[idx][0]) + \"\\t %1d\" % (classesA8[idx]) + '\\n')"
   ]
  },
  {
   "cell_type": "code",
   "execution_count": 23,
   "id": "6ab2ebfe",
   "metadata": {},
   "outputs": [
    {
     "name": "stdout",
     "output_type": "stream",
     "text": [
      "Number of classes in A8:  128\n"
     ]
    },
    {
     "data": {
      "image/png": "[encoded data removed]",
      "text/plain": [
       "<Figure size 1200x800 with 1 Axes>"
      ]
     },
     "metadata": {},
     "output_type": "display_data"
    }
   ],
   "source": [
    "classes_counterA8 = dict(Counter(classesA8))\n",
    "print('Number of classes in A8: ', len(classes_counterA8))\n",
    "    \n",
    "# Sort records by the number of occurances\n",
    "tempDict = classes_counterA8\n",
    "classes_counterA8 = {k: v for k, v in sorted(tempDict.items(), key=lambda item: item[1])}\n",
    "    \n",
    "# distribution of different classes for A8\n",
    "plt.figure(figsize=(12, 8));\n",
    "freq_series = pd.Series(list(classes_counterA8.values()));\n",
    "fig = freq_series.plot(kind='bar');\n",
    "fig.set_title('A8 group');\n",
    "fig.set_xlabel('Unique Invariant');\n",
    "fig.set_ylabel('Multiplicity');\n",
    "fig.set_xticklabels([]);\n",
    "#fig.xaxis.set_visible(False)"
   ]
  },
  {
   "cell_type": "code",
   "execution_count": 24,
   "id": "f859f05c",
   "metadata": {},
   "outputs": [
    {
     "data": {
      "text/plain": [
       "1385"
      ]
     },
     "execution_count": 24,
     "metadata": {},
     "output_type": "execute_result"
    }
   ],
   "source": [
    "# Highest frequency\n",
    "classes_counterA8[ list(classes_counterA8.keys())[-1] ]"
   ]
  },
  {
   "cell_type": "code",
   "execution_count": 25,
   "id": "d4d8061a",
   "metadata": {},
   "outputs": [],
   "source": [
    "# Record found classes\n",
    "with open('ADE_Data\\A8_classes.txt','w') as file:\n",
    "    file.write('Permutation \\t\\t Invariant No \\t Frequency \\n')\n",
    "    for invar_no, freq in classes_counterA8.items():\n",
    "        file.write( str(dataA8[invar_no][0]) + \"\\t %5d \\t %4d\" % (invar_no,freq) + '\\n')"
   ]
  },
  {
   "cell_type": "code",
   "execution_count": null,
   "id": "95de6ed8",
   "metadata": {},
   "outputs": [],
   "source": []
  }
 ],
 "metadata": {
  "kernelspec": {
   "display_name": "Python 3 (ipykernel)",
   "language": "python",
   "name": "python3"
  },
  "language_info": {
   "codemirror_mode": {
    "name": "ipython",
    "version": 3
   },
   "file_extension": ".py",
   "mimetype": "text/x-python",
   "name": "python",
   "nbconvert_exporter": "python",
   "pygments_lexer": "ipython3",
   "version": "3.11.3"
  }
 },
 "nbformat": 4,
 "nbformat_minor": 5
}
