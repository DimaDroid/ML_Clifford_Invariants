{
 "cells": [
  {
   "cell_type": "markdown",
   "metadata": {},
   "source": [
    "This notebook preocesses data for A8, D8, and E8 algebras' invariants. It computes frequency distributions for each component of the corresponding SOCMs, generating fake data based on this information. It then checks the quality of this fake data by looking for duplicates in both the fake and real datasets. For the resulting fake data, this code also checks a unique characteristic in the A8, D8, and E8 algebras' data — how many zeros appear in the components — to ensure the accuracy of the fake data."
   ]
  },
  {
   "cell_type": "code",
   "execution_count": 1,
   "id": "cf0f4814",
   "metadata": {
    "tags": []
   },
   "outputs": [],
   "source": [
    "import numpy as np\n",
    "from itertools import chain\n",
    "from math import floor\n",
    "import matplotlib.pyplot as plt\n",
    "import time\n",
    "from numpy.random import choice\n",
    "from collections import Counter\n",
    "from tqdm import tqdm"
   ]
  },
  {
   "cell_type": "code",
   "execution_count": 2,
   "id": "53e19fc5",
   "metadata": {
    "tags": []
   },
   "outputs": [
    {
     "name": "stdout",
     "output_type": "stream",
     "text": [
      "55.76289415359497\n"
     ]
    }
   ],
   "source": [
    "# Import data -- in format \n",
    "# [[(permutation order of roots in W definition), [list of invariant coefficient vectors], ...all permutations]\n",
    "\n",
    "# Modified files are used: all 1/2, 3/2, 5/2 are replaced by 0.5, 1.5, 2,5\n",
    "\n",
    "# Extract invarinats' components into a list \n",
    "def parseString(string):\n",
    "    '''Extract permutation as a string and invariants' components as an array'''\n",
    "    tmp = list(string[1:-2].split(\", [[\"))\n",
    "    return [ [float(i) for i in list(elem.split(\", \"))]  for elem in list(tmp[1][:-1].split(\"], [\"))]\n",
    "\n",
    "start = time.time()\n",
    "\n",
    "# Create np array for storing permutations and invariants' components\n",
    "data_A8 = np.zeros((40320, 9*256), dtype=np.float16)\n",
    "data_D8 = np.zeros((40320, 9*256), dtype=np.float16)\n",
    "data_E8 = np.zeros((40320, 9*256), dtype=np.float16)\n",
    "\n",
    "# Read data from files, concatenate each invarinat's components\n",
    "lnIdx = 0\n",
    "with open('ADE_Data\\A8inv_Data_mod.txt','r') as file:\n",
    "    for line in file:\n",
    "        data_A8[lnIdx] = np.concatenate(parseString(line.rstrip()))\n",
    "        lnIdx = lnIdx + 1\n",
    "        \n",
    "lnIdx = 0\n",
    "with open('ADE_Data\\D8inv_Data_mod.txt','r') as file:\n",
    "    for line in file:\n",
    "        data_D8[lnIdx] = np.concatenate(parseString(line.rstrip()))\n",
    "        lnIdx = lnIdx + 1\n",
    "\n",
    "lnIdx = 0\n",
    "with open('ADE_Data\\E8inv_Data_mod.txt','r') as file:\n",
    "    for line in file:\n",
    "        data_E8[lnIdx] = np.concatenate(parseString(line.rstrip()))\n",
    "        lnIdx = lnIdx + 1\n",
    "        \n",
    "end = time.time()\n",
    "print(end - start)\n",
    "\n",
    "dataSize = len(data_E8)"
   ]
  },
  {
   "cell_type": "code",
   "execution_count": 3,
   "id": "30b30ff9",
   "metadata": {
    "tags": []
   },
   "outputs": [
    {
     "name": "stdout",
     "output_type": "stream",
     "text": [
      "48.652538776397705\n",
      "(2304,)\n"
     ]
    }
   ],
   "source": [
    "# Count frequency of values for each component of the invariant\n",
    "\n",
    "start = time.time()\n",
    "\n",
    "cptsSize = len(data_E8[0])\n",
    "\n",
    "cptsCount_A8 = [dict(Counter(data_A8[:,index])) for index in range(cptsSize)]\n",
    "cptsCount_D8 = [dict(Counter(data_D8[:,index])) for index in range(cptsSize)]\n",
    "cptsCount_E8 = [dict(Counter(data_E8[:,index])) for index in range(cptsSize)]\n",
    "\n",
    "end = time.time()\n",
    "print(end - start)\n",
    "\n",
    "print(np.shape(cptsCount_E8))"
   ]
  },
  {
   "cell_type": "code",
   "execution_count": 4,
   "id": "f3a0f869",
   "metadata": {
    "tags": []
   },
   "outputs": [
    {
     "data": {
      "text/plain": [
       "<BarContainer object of 5 artists>"
      ]
     },
     "execution_count": 4,
     "metadata": {},
     "output_type": "execute_result"
    },
    {
     "data": {
      "image/png": "[encoded data removed]",
      "text/plain": [
       "<Figure size 640x480 with 1 Axes>"
      ]
     },
     "metadata": {},
     "output_type": "display_data"
    }
   ],
   "source": [
    "# Plot counter for a random component\n",
    "width = 0.4\n",
    "plt.bar(dict(cptsCount_E8[280]).keys(), dict(cptsCount_E8[280]).values(), width, color='pink')"
   ]
  },
  {
   "cell_type": "code",
   "execution_count": 5,
   "id": "c2d496b6",
   "metadata": {
    "tags": []
   },
   "outputs": [],
   "source": [
    "# Normalize the counter to get a distribution \n",
    "cptsDistr_E8 = [{list(cptDict.keys())[i]: list(cptDict.values())[i]/sum(cptDict.values()) for i in range(len(cptDict.keys()))} for cptDict in cptsCount_E8]\n",
    "cptsDistr_D8 = [{list(cptDict.keys())[i]: list(cptDict.values())[i]/sum(cptDict.values()) for i in range(len(cptDict.keys()))} for cptDict in cptsCount_D8]\n",
    "cptsDistr_A8 = [{list(cptDict.keys())[i]: list(cptDict.values())[i]/sum(cptDict.values()) for i in range(len(cptDict.keys()))} for cptDict in cptsCount_A8]"
   ]
  },
  {
   "cell_type": "code",
   "execution_count": 6,
   "id": "5a0cfd1d",
   "metadata": {
    "tags": []
   },
   "outputs": [
    {
     "data": {
      "text/plain": [
       "<BarContainer object of 5 artists>"
      ]
     },
     "execution_count": 6,
     "metadata": {},
     "output_type": "execute_result"
    },
    {
     "data": {
      "image/png": "[encoded data removed]",
      "text/plain": [
       "<Figure size 640x480 with 1 Axes>"
      ]
     },
     "metadata": {},
     "output_type": "display_data"
    }
   ],
   "source": [
    "# Plot counter for one of a random components\n",
    "width = 0.4\n",
    "plt.bar(cptsDistr_E8[280].keys(), cptsDistr_E8[280].values(), width, color='pink')"
   ]
  },
  {
   "cell_type": "code",
   "execution_count": 7,
   "id": "3eccca97",
   "metadata": {
    "tags": []
   },
   "outputs": [],
   "source": [
    "# Genrate fake data\n",
    "fakeDataSize = 80000\n",
    "\n",
    "fakeData_A8 = np.fromiter( (choice(list(cptsDistr_A8[index].keys()), fakeDataSize, p=list(cptsDistr_A8[index].values())) for index in range(cptsSize)), dtype=np.dtype((np.float16, fakeDataSize)))\n",
    "fakeData_E8 = np.fromiter( (choice(list(cptsDistr_E8[index].keys()), fakeDataSize, p=list(cptsDistr_E8[index].values())) for index in range(cptsSize)), dtype=np.dtype((np.float16, fakeDataSize)))\n",
    "fakeData_D8 = np.fromiter( (choice(list(cptsDistr_D8[index].keys()), fakeDataSize, p=list(cptsDistr_D8[index].values())) for index in range(cptsSize)), dtype=np.dtype((np.float16, fakeDataSize)))"
   ]
  },
  {
   "cell_type": "code",
   "execution_count": 8,
   "id": "281ac429",
   "metadata": {
    "tags": []
   },
   "outputs": [],
   "source": [
    "# Transpose the data array to access fake invariant by the first index and its components by the second index\n",
    "\n",
    "fakeData_E8 = np.transpose(fakeData_E8)\n",
    "fakeData_D8 = np.transpose(fakeData_D8)\n",
    "fakeData_A8 = np.transpose(fakeData_A8)"
   ]
  },
  {
   "cell_type": "code",
   "execution_count": 9,
   "id": "18384a5e",
   "metadata": {
    "tags": []
   },
   "outputs": [],
   "source": [
    "# Dataset of strings for fake E8, D8, A8 fast elements comparison\n",
    "fakeDataStr_A8 = [ fakeData_A8[index].tobytes() for index in range(fakeDataSize) ]\n",
    "fakeDataStr_D8 = [ fakeData_D8[index].tobytes() for index in range(fakeDataSize) ]\n",
    "fakeDataStr_E8 = [ fakeData_E8[index].tobytes() for index in range(fakeDataSize) ]\n",
    "\n",
    "# Dataset of strings for fake E8, D8, A8 fast elements comparison\n",
    "dataStr_A8 = [ data_A8[index].tobytes() for index in range(dataSize) ]\n",
    "dataStr_D8 = [ data_D8[index].tobytes() for index in range(dataSize) ]\n",
    "dataStr_E8 = [ data_E8[index].tobytes() for index in range(dataSize) ]"
   ]
  },
  {
   "cell_type": "code",
   "execution_count": 10,
   "id": "df1d563e",
   "metadata": {
    "tags": []
   },
   "outputs": [
    {
     "name": "stderr",
     "output_type": "stream",
     "text": [
      "100%|██████████| 80000/80000 [23:32<00:00, 56.65it/s]  "
     ]
    },
    {
     "name": "stdout",
     "output_type": "stream",
     "text": [
      "0\n"
     ]
    },
    {
     "name": "stderr",
     "output_type": "stream",
     "text": [
      "\n"
     ]
    }
   ],
   "source": [
    "# Check E8 fake data for duplicates\n",
    "\n",
    "duplicates_fakeE8 = np.zeros(fakeDataSize, dtype=int)\n",
    "\n",
    "for idx1 in tqdm(range(fakeDataSize)):\n",
    "    if duplicates_fakeE8[idx1] == 1:\n",
    "            continue\n",
    "    for idx2 in range(idx1+1,fakeDataSize):\n",
    "        if duplicates_fakeE8[idx2] == 1:\n",
    "            continue\n",
    "        if fakeDataStr_E8[idx1]==fakeDataStr_E8[idx2]:\n",
    "            duplicates_fakeE8[idx1] = 1\n",
    "            duplicates_fakeE8[idx2] = 1\n",
    "\n",
    "print(sum(duplicates_fakeE8))"
   ]
  },
  {
   "cell_type": "code",
   "execution_count": 11,
   "id": "11b47133",
   "metadata": {
    "tags": []
   },
   "outputs": [
    {
     "name": "stderr",
     "output_type": "stream",
     "text": [
      "100%|██████████| 40320/40320 [15:35<00:00, 43.10it/s]"
     ]
    },
    {
     "name": "stdout",
     "output_type": "stream",
     "text": [
      "0\n"
     ]
    },
    {
     "name": "stderr",
     "output_type": "stream",
     "text": [
      "\n"
     ]
    }
   ],
   "source": [
    "# Check E8 fake data for duplicates in E8 data\n",
    "\n",
    "duplicates_withE8 = np.zeros(fakeDataSize, dtype=int)\n",
    "\n",
    "for idx1 in tqdm(range(dataSize)):\n",
    "    for idx2 in range(fakeDataSize):\n",
    "        if dataStr_E8[idx1]==fakeDataStr_E8[idx2]:\n",
    "            duplicates_withE8[idx1] = 1\n",
    "            duplicates_withE8[idx2] = 1\n",
    "            \n",
    "print(sum(duplicates_withE8))"
   ]
  },
  {
   "cell_type": "code",
   "execution_count": 12,
   "id": "203cebd1-c631-4917-9004-e0e9f8da96b9",
   "metadata": {
    "tags": []
   },
   "outputs": [
    {
     "name": "stdout",
     "output_type": "stream",
     "text": [
      "3004\n"
     ]
    }
   ],
   "source": [
    "# Check E8 fake data preserves the number of zeros: 1942\n",
    "\n",
    "good_invariants = np.zeros(fakeDataSize, dtype=int)\n",
    "\n",
    "for idx, inv in enumerate(fakeData_E8):\n",
    "    if (len(inv)-np.count_nonzero(inv)) == 1942:\n",
    "        good_invariants[idx] = 1\n",
    "            \n",
    "print(sum(good_invariants))"
   ]
  },
  {
   "cell_type": "code",
   "execution_count": 13,
   "id": "896ad15a",
   "metadata": {
    "tags": []
   },
   "outputs": [
    {
     "name": "stdout",
     "output_type": "stream",
     "text": [
      "3004\n"
     ]
    }
   ],
   "source": [
    "# Only keep good invariants in fake dataset for E8\n",
    "fakeData_E8_good = []\n",
    "\n",
    "for i in range(fakeDataSize):\n",
    "    if good_invariants[i] == 1:\n",
    "        fakeData_E8_good.append(fakeData_E8[i])\n",
    "        \n",
    "print(len(fakeData_E8_good))"
   ]
  },
  {
   "cell_type": "code",
   "execution_count": null,
   "id": "5e22e636-85db-4ced-9550-37df9497e364",
   "metadata": {},
   "outputs": [],
   "source": []
  },
  {
   "cell_type": "code",
   "execution_count": 14,
   "id": "f8f23134",
   "metadata": {
    "tags": []
   },
   "outputs": [
    {
     "name": "stderr",
     "output_type": "stream",
     "text": [
      "100%|██████████| 80000/80000 [29:12<00:00, 45.65it/s]  "
     ]
    },
    {
     "name": "stdout",
     "output_type": "stream",
     "text": [
      "0\n"
     ]
    },
    {
     "name": "stderr",
     "output_type": "stream",
     "text": [
      "\n"
     ]
    }
   ],
   "source": [
    "# Check D8 fake data for duplicates\n",
    "            \n",
    "duplicates_fakeD8 = np.zeros(fakeDataSize, dtype=int)\n",
    "\n",
    "for idx1 in tqdm(range(fakeDataSize)):\n",
    "    if duplicates_fakeD8[idx1] == 1:\n",
    "            continue\n",
    "    for idx2 in range(idx1+1,fakeDataSize):\n",
    "        if duplicates_fakeD8[idx2] == 1:\n",
    "            continue\n",
    "        if fakeDataStr_D8[idx1]==fakeDataStr_D8[idx2]:\n",
    "            duplicates_fakeD8[idx1] = 1\n",
    "            duplicates_fakeD8[idx2] = 1\n",
    "\n",
    "print(sum(duplicates_fakeD8))"
   ]
  },
  {
   "cell_type": "code",
   "execution_count": 17,
   "id": "df44d338",
   "metadata": {
    "tags": []
   },
   "outputs": [
    {
     "name": "stderr",
     "output_type": "stream",
     "text": [
      "100%|██████████| 40320/40320 [16:18<00:00, 41.22it/s]"
     ]
    },
    {
     "name": "stdout",
     "output_type": "stream",
     "text": [
      "0\n"
     ]
    },
    {
     "name": "stderr",
     "output_type": "stream",
     "text": [
      "\n"
     ]
    }
   ],
   "source": [
    "# Check D8 fake data for duplicates in D8 data\n",
    "\n",
    "duplicates_withD8 = np.zeros(fakeDataSize, dtype=int)\n",
    "\n",
    "for idx1 in tqdm(range(dataSize)):\n",
    "    for idx2 in range(fakeDataSize):\n",
    "        if dataStr_D8[idx1]==fakeDataStr_D8[idx2]:\n",
    "            duplicates_withD8[idx1] = 1\n",
    "            duplicates_withD8[idx2] = 1\n",
    "            \n",
    "print(sum(duplicates_withD8))"
   ]
  },
  {
   "cell_type": "code",
   "execution_count": 18,
   "id": "076292ea-a7f1-43b2-9657-f9ec4f2f8d7e",
   "metadata": {
    "tags": []
   },
   "outputs": [
    {
     "name": "stdout",
     "output_type": "stream",
     "text": [
      "3619\n"
     ]
    }
   ],
   "source": [
    "# Check D8 fake data preserves the number of zeros: 2083\n",
    "\n",
    "good_invariants = np.zeros(fakeDataSize, dtype=int)\n",
    "\n",
    "for idx, inv in enumerate(fakeData_D8):\n",
    "    if (len(inv)-np.count_nonzero(inv)) == 2083:\n",
    "        good_invariants[idx] = 1\n",
    "            \n",
    "print(sum(good_invariants))"
   ]
  },
  {
   "cell_type": "code",
   "execution_count": 19,
   "id": "06b3d1ee-bf54-4662-ac1e-c7b4fea3e2bb",
   "metadata": {
    "tags": []
   },
   "outputs": [
    {
     "name": "stdout",
     "output_type": "stream",
     "text": [
      "3619\n"
     ]
    }
   ],
   "source": [
    "# Only keep good invariants in fake dataset for E8\n",
    "fakeData_D8_good = []\n",
    "\n",
    "for i in range(fakeDataSize):\n",
    "    if good_invariants[i] == 1:\n",
    "        fakeData_D8_good.append(fakeData_D8[i])\n",
    "        \n",
    "print(len(fakeData_D8_good))"
   ]
  },
  {
   "cell_type": "code",
   "execution_count": null,
   "id": "5ab966f0",
   "metadata": {},
   "outputs": [],
   "source": []
  },
  {
   "cell_type": "code",
   "execution_count": 20,
   "id": "3bf56d0b",
   "metadata": {
    "tags": []
   },
   "outputs": [
    {
     "name": "stderr",
     "output_type": "stream",
     "text": [
      "100%|██████████| 80000/80000 [22:13<00:00, 59.99it/s]  "
     ]
    },
    {
     "name": "stdout",
     "output_type": "stream",
     "text": [
      "0\n"
     ]
    },
    {
     "name": "stderr",
     "output_type": "stream",
     "text": [
      "\n"
     ]
    }
   ],
   "source": [
    "# Check A8 fake data for duplicates\n",
    "            \n",
    "duplicates_fakeA8 = np.zeros(fakeDataSize, dtype=int)\n",
    "\n",
    "for idx1 in tqdm(range(fakeDataSize)):\n",
    "    if duplicates_fakeA8[idx1] == 1:\n",
    "            continue\n",
    "    for idx2 in range(idx1+1,fakeDataSize):\n",
    "        if duplicates_fakeA8[idx2] == 1:\n",
    "            continue\n",
    "        if fakeDataStr_A8[idx1]==fakeDataStr_A8[idx2]:\n",
    "            duplicates_fakeA8[idx1] = 1\n",
    "            duplicates_fakeA8[idx2] = 1\n",
    "\n",
    "print(sum(duplicates_fakeA8))"
   ]
  },
  {
   "cell_type": "code",
   "execution_count": 21,
   "id": "f22862be",
   "metadata": {
    "tags": []
   },
   "outputs": [
    {
     "name": "stderr",
     "output_type": "stream",
     "text": [
      "100%|██████████| 40320/40320 [15:25<00:00, 43.57it/s]"
     ]
    },
    {
     "name": "stdout",
     "output_type": "stream",
     "text": [
      "0\n"
     ]
    },
    {
     "name": "stderr",
     "output_type": "stream",
     "text": [
      "\n"
     ]
    }
   ],
   "source": [
    "# Check A8 fake data for duplicates in A8 data\n",
    "\n",
    "duplicates_withA8 = np.zeros(fakeDataSize, dtype=int)\n",
    "\n",
    "for idx1 in tqdm(range(dataSize)):\n",
    "    for idx2 in range(fakeDataSize):\n",
    "        if dataStr_A8[idx1]==fakeDataStr_A8[idx2]:\n",
    "            duplicates_withA8[idx1] = 1\n",
    "            duplicates_withA8[idx2] = 1\n",
    "            \n",
    "print(sum(duplicates_withA8))"
   ]
  },
  {
   "cell_type": "code",
   "execution_count": 22,
   "id": "e608e0df-4875-49b7-9539-050fe4fc1ec4",
   "metadata": {
    "tags": []
   },
   "outputs": [
    {
     "name": "stdout",
     "output_type": "stream",
     "text": [
      "3479\n"
     ]
    }
   ],
   "source": [
    "# Check A8 fake data preserves the number of zeros: 1805\n",
    "\n",
    "good_invariants = np.zeros(fakeDataSize, dtype=int)\n",
    "\n",
    "for idx, inv in enumerate(fakeData_A8):\n",
    "    if (len(inv)-np.count_nonzero(inv)) == 1805:\n",
    "        good_invariants[idx] = 1\n",
    "            \n",
    "print(sum(good_invariants))"
   ]
  },
  {
   "cell_type": "code",
   "execution_count": 23,
   "id": "55d517d2-486c-4cd4-9987-7d9144c584b1",
   "metadata": {
    "tags": []
   },
   "outputs": [
    {
     "name": "stdout",
     "output_type": "stream",
     "text": [
      "3479\n"
     ]
    }
   ],
   "source": [
    "# Only keep good invariants in fake dataset for A8\n",
    "fakeData_A8_good = []\n",
    "\n",
    "for i in range(fakeDataSize):\n",
    "    if good_invariants[i] == 1:\n",
    "        fakeData_A8_good.append(fakeData_A8[i])\n",
    "        \n",
    "print(len(fakeData_A8_good))"
   ]
  },
  {
   "cell_type": "code",
   "execution_count": null,
   "id": "74babb6f-7d81-42da-ac05-3de38f8f847a",
   "metadata": {},
   "outputs": [],
   "source": []
  },
  {
   "cell_type": "code",
   "execution_count": 24,
   "id": "15d0dab8",
   "metadata": {
    "tags": []
   },
   "outputs": [],
   "source": [
    "np.savetxt('ADE_Data\\E8inv_Data_Fake_good.txt', fakeData_E8_good, fmt='%1.1f', delimiter=',') \n",
    "\n",
    "np.savetxt('ADE_Data\\D8inv_Data_Fake_good.txt', fakeData_D8_good, fmt='%1.1f', delimiter=',') \n",
    "\n",
    "np.savetxt('ADE_Data\\A8inv_Data_Fake_good.txt', fakeData_A8_good, fmt='%1.1f', delimiter=',') "
   ]
  },
  {
   "cell_type": "code",
   "execution_count": 52,
   "id": "5f31f8c0",
   "metadata": {},
   "outputs": [],
   "source": [
    "# Write fake data to files (OLD!)\n",
    "with open('ADE_Data\\E8inv_Data_Fake.txt','w') as file:\n",
    "    for line in fakeData_E8:\n",
    "        file.write(line.tobytes())\n",
    "        \n",
    "with open('ADE_Data\\D8inv_Data_Fake.txt','w') as file:\n",
    "    for line in fakeData_D8:\n",
    "        file.write(line.tobytes())\n",
    "        \n",
    "with open('ADE_Data\\A8inv_Data_Fake.txt','w') as file:\n",
    "    for line in fakeData_A8:\n",
    "        file.write(line.tobytes())"
   ]
  },
  {
   "cell_type": "code",
   "execution_count": 12,
   "id": "97e1117c",
   "metadata": {},
   "outputs": [
    {
     "name": "stdout",
     "output_type": "stream",
     "text": [
      "[array([1, 2]), array([3, 4])]\n"
     ]
    }
   ],
   "source": [
    "A = np.array([[1,2],[3,4]],dtype=int)\n",
    "\n",
    "print(list(A))\n",
    "\n",
    "np.savetxt('ADE_Data/test.txt', A, fmt='%1.1f', delimiter=',') "
   ]
  },
  {
   "cell_type": "code",
   "execution_count": 16,
   "id": "413a5fb0",
   "metadata": {},
   "outputs": [
    {
     "data": {
      "text/plain": [
       "array([[1., 2.],\n",
       "       [3., 4.]])"
      ]
     },
     "execution_count": 16,
     "metadata": {},
     "output_type": "execute_result"
    }
   ],
   "source": [
    "np.loadtxt('ADE_Data/test.txt',delimiter=',',)"
   ]
  },
  {
   "cell_type": "code",
   "execution_count": null,
   "id": "3ba2b54f",
   "metadata": {},
   "outputs": [],
   "source": []
  }
 ],
 "metadata": {
  "kernelspec": {
   "display_name": "Python 3 (ipykernel)",
   "language": "python",
   "name": "python3"
  },
  "language_info": {
   "codemirror_mode": {
    "name": "ipython",
    "version": 3
   },
   "file_extension": ".py",
   "mimetype": "text/x-python",
   "name": "python",
   "nbconvert_exporter": "python",
   "pygments_lexer": "ipython3",
   "version": "3.11.3"
  }
 },
 "nbformat": 4,
 "nbformat_minor": 5
}
